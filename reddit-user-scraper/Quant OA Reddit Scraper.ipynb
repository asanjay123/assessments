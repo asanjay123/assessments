{
 "cells": [
  {
   "cell_type": "code",
   "execution_count": null,
   "metadata": {},
   "outputs": [],
   "source": [
    "#! usr/bin/env python3\n",
    "\"\"\"\n",
    "Quant OA: Reddit File Scraper: \n",
    "This application parses through Reddit users and return valuable information about \n",
    "their data that is publicly represented on their user pages.\n",
    "For this application, I will be importing python libraries like PRAW(Python Reddit API Wrapper),\n",
    "Pandas, and Datetime.\n",
    "\"\"\"\n",
    "import praw\n",
    "import pandas as pd\n",
    "import datetime as dt\n",
    "from datetime import timedelta"
   ]
  },
  {
   "cell_type": "code",
   "execution_count": null,
   "metadata": {},
   "outputs": [],
   "source": [
    "\"\"\"\n",
    "To being the application, the user will be prompted to enter a username in the form of u/username.\n",
    "The username will then be shortened and trimmed to get the actual username to use when retrieving data.\n",
    "Here, I create a variable input_name where I take the user input, shorten it, and print it for the user to see.\n",
    "\"\"\"\n",
    "print(\"Enter username here: \")\n",
    "input_name = input()\n",
    "input_name = input_name[2:]\n",
    "input_name"
   ]
  },
  {
   "cell_type": "code",
   "execution_count": null,
   "metadata": {},
   "outputs": [],
   "source": [
    "\"\"\"\n",
    "This code block is meant to call the Reddit API (PRAW) to help us gather data from reddit.\n",
    "Reddit offers PRAW, an API, that allows us to get an ID, Access Code, and a agent name so that we have\n",
    "access to reach into Reddit's system information and draw out public information that we can analyze and \n",
    "run tests on. \n",
    "\"\"\"\n",
    "# reddit_read: A variable created to access and store the raw data being received from PRAW\n",
    "reddit_read = praw.Reddit(client_id='jxt21f8yif1ctN1uCXkFFA', \\\n",
    "                     client_secret='JLYnlwdE2xZ5mmW-9UcTgLXbJmDqkA', \\\n",
    "                     user_agent='Quant OA Scraper')\n",
    "\n",
    "# reddit_authorized: A variable similar to reddit_read but takes in username and password to access account sensitive information\n",
    "reddit_authorized = praw.Reddit(client_id='jxt21f8yif1ctN1uCXkFFA', \\\n",
    "                     client_secret='JLYnlwdE2xZ5mmW-9UcTgLXbJmDqkA ', \\\n",
    "                     user_agent='Quant OA Scraper', \\\n",
    "                     username='asanjay3', \\\n",
    "                     password='YOUR_REDDIT_LOGIN_PASSWORD')\n",
    "                     \n",
    "subreddit = reddit_read.user.subreddits(limit=None)\n"
   ]
  },
  {
   "cell_type": "code",
   "execution_count": null,
   "metadata": {},
   "outputs": [],
   "source": [
    "\"\"\"\n",
    "This code block returns when the reddit user was created in year, month, day format. (Cake Day)\n",
    "\"\"\"\n",
    "time = reddit_read.redditor(input_name).created_utc # Accesses Reddit API's redditor class and calls created method passing through username\n",
    "print(dt.datetime.fromtimestamp(time)) # Prints creation date result"
   ]
  },
  {
   "cell_type": "code",
   "execution_count": null,
   "metadata": {},
   "outputs": [],
   "source": [
    "\"\"\"\n",
    "This code block creates a dictionary to store the values needed.\n",
    "\"\"\"\n",
    "topics_dict = { \"score/upvotes\":[], \\\n",
    "                \"downvotes\":[], \\\n",
    "                \"created_date\":[], \\\n",
    "                \"id\":[], \\\n",
    "                \"created\": [], \\\n",
    "                \"body\":[]}"
   ]
  },
  {
   "cell_type": "code",
   "execution_count": null,
   "metadata": {},
   "outputs": [],
   "source": [
    "\"\"\"\n",
    "This code block creates a user variable with the inputted username and parses through new comments from the user.\n",
    "We then retrieve the dates from the comments to find out when the comments were posted on to reddit. \n",
    "We can also receive the score/upvotes for each one, the id, and the body for each comment. We append these to a dictionary\n",
    "and can in the future upload them to a Pandas Dataframe and analyze them further.\n",
    "Through the for-loop, we can append these comments and dates into a dictionary\n",
    "\"\"\"\n",
    "user = reddit_read.redditor(input_name)\n",
    "\n",
    "for comment in user.comments.new():\n",
    "    topics_dict[\"score/upvotes\"].append(comment.score)\n",
    "    topics_dict[\"id\"].append(comment.id)\n",
    "    topics_dict[\"body\"].append(comment.body)\n",
    "    topics_dict[\"downvotes\"].append(comment.downvote)\n",
    "    age = comment.created_utc\n",
    "    converted_age = dt.datetime.fromtimestamp(int(age)).strftime('%Y-%m-%d %H:%M:%S')\n",
    "    topics_dict[\"created_date\"].append(converted_age) # Prints converted age from decimal to readable format\n",
    "\n"
   ]
  },
  {
   "cell_type": "code",
   "execution_count": null,
   "metadata": {},
   "outputs": [],
   "source": [
    "# Future proofing: Create dataframe to further analyze using pandas libraries\n",
    "topics_data = pd.DataFrame(topics_dict)"
   ]
  },
  {
   "cell_type": "code",
   "execution_count": null,
   "metadata": {},
   "outputs": [],
   "source": [
    "\"\"\"\n",
    "This code block uses the pandas dataframe to filter out and get dates to update when subreddits were created\n",
    "\"\"\"\n",
    "def get_date(created):\n",
    "    return dt.datetime.fromtimestamp(created)\n",
    "\n",
    "_timestamp = topics_data[\"created\"].apply(get_date)\n",
    "topics_data = topics_data.assign(timestamp = _timestamp)\n",
    "topics_data"
   ]
  },
  {
   "cell_type": "code",
   "execution_count": null,
   "metadata": {},
   "outputs": [],
   "source": [
    "#Convert data into csv filetype\n",
    "topics_data.to_csv(\"Topics.csv\", index=True)"
   ]
  },
  {
   "cell_type": "code",
   "execution_count": null,
   "metadata": {},
   "outputs": [],
   "source": [
    "\"\"\"\n",
    "I'm thankful for the opportunity to take on this assignment as it allowed me to learn more about an area of computer science\n",
    "I wasn't too familiar with. I have realized that this submission isn't a fully completed version of the reddit assignment, but\n",
    "I have put my best foot forward in an area I haven't been too familiar with and I'm more than happy to learn and gain new \n",
    "experiences from the leads at Quant. Quant is a club I genuinely want to partake in and explore to solidify my passion in pursuing \n",
    "a quant role further down my career path. It would be an amazing way to learn about a role that I'm passionate about and at a club \n",
    "that has already made serious advances at UIUC. Thank you for your consideration and your time! Have a great day!\n",
    "\"\"\""
   ]
  }
 ],
 "metadata": {
  "interpreter": {
   "hash": "aee8b7b246df8f9039afb4144a1f6fd8d2ca17a180786b69acc140d282b71a49"
  },
  "kernelspec": {
   "display_name": "Python 3.9.6 64-bit",
   "language": "python",
   "name": "python3"
  },
  "language_info": {
   "codemirror_mode": {
    "name": "ipython",
    "version": 3
   },
   "file_extension": ".py",
   "mimetype": "text/x-python",
   "name": "python",
   "nbconvert_exporter": "python",
   "pygments_lexer": "ipython3",
   "version": "3.8.8"
  },
  "orig_nbformat": 4
 },
 "nbformat": 4,
 "nbformat_minor": 2
}
